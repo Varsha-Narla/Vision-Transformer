{
 "cells": [
  {
   "cell_type": "code",
   "execution_count": 1,
   "id": "a082bc7c",
   "metadata": {
    "execution": {
     "iopub.execute_input": "2024-04-26T09:50:49.368404Z",
     "iopub.status.busy": "2024-04-26T09:50:49.367734Z",
     "iopub.status.idle": "2024-04-26T09:50:57.036792Z",
     "shell.execute_reply": "2024-04-26T09:50:57.035849Z"
    },
    "papermill": {
     "duration": 7.682549,
     "end_time": "2024-04-26T09:50:57.039232",
     "exception": false,
     "start_time": "2024-04-26T09:50:49.356683",
     "status": "completed"
    },
    "tags": []
   },
   "outputs": [
    {
     "name": "stdout",
     "output_type": "stream",
     "text": [
      "imported\n"
     ]
    }
   ],
   "source": [
    "import matplotlib.pyplot as plt \n",
    "import torch \n",
    "import torchvision\n",
    "\n",
    "from torch import nn\n",
    "from torchvision import transforms \n",
    "print(\"imported\")"
   ]
  },
  {
   "cell_type": "code",
   "execution_count": 2,
   "id": "718b342c",
   "metadata": {
    "execution": {
     "iopub.execute_input": "2024-04-26T09:50:57.060151Z",
     "iopub.status.busy": "2024-04-26T09:50:57.059407Z",
     "iopub.status.idle": "2024-04-26T09:50:57.149186Z",
     "shell.execute_reply": "2024-04-26T09:50:57.148305Z"
    },
    "papermill": {
     "duration": 0.102266,
     "end_time": "2024-04-26T09:50:57.151170",
     "exception": false,
     "start_time": "2024-04-26T09:50:57.048904",
     "status": "completed"
    },
    "tags": []
   },
   "outputs": [
    {
     "data": {
      "text/plain": [
       "'cuda'"
      ]
     },
     "execution_count": 2,
     "metadata": {},
     "output_type": "execute_result"
    }
   ],
   "source": [
    "device =\"cuda\" if torch.cuda.is_available() else \"cpu\"\n",
    "device"
   ]
  },
  {
   "cell_type": "code",
   "execution_count": 3,
   "id": "f80f48df",
   "metadata": {
    "execution": {
     "iopub.execute_input": "2024-04-26T09:50:57.171921Z",
     "iopub.status.busy": "2024-04-26T09:50:57.171278Z",
     "iopub.status.idle": "2024-04-26T09:50:57.175616Z",
     "shell.execute_reply": "2024-04-26T09:50:57.174695Z"
    },
    "papermill": {
     "duration": 0.01666,
     "end_time": "2024-04-26T09:50:57.177468",
     "exception": false,
     "start_time": "2024-04-26T09:50:57.160808",
     "status": "completed"
    },
    "tags": []
   },
   "outputs": [],
   "source": [
    "#set up\n",
    "train_dir=\"/kaggle/input/casia-zipped/CASIA2.0_revised/Training\"\n",
    "test_dir=\"/kaggle/input/casia-zipped/CASIA2.0_revised/Testing\""
   ]
  },
  {
   "cell_type": "code",
   "execution_count": 4,
   "id": "5a0c6e28",
   "metadata": {
    "execution": {
     "iopub.execute_input": "2024-04-26T09:50:57.197326Z",
     "iopub.status.busy": "2024-04-26T09:50:57.196603Z",
     "iopub.status.idle": "2024-04-26T09:50:57.204301Z",
     "shell.execute_reply": "2024-04-26T09:50:57.203476Z"
    },
    "papermill": {
     "duration": 0.019688,
     "end_time": "2024-04-26T09:50:57.206339",
     "exception": false,
     "start_time": "2024-04-26T09:50:57.186651",
     "status": "completed"
    },
    "tags": []
   },
   "outputs": [],
   "source": [
    "import os \n",
    "from torchvision import datasets, transforms \n",
    "from torch.utils.data import DataLoader \n",
    "\n",
    "\n",
    "NUM_WORKERS=os.cpu_count()\n",
    "\n",
    "def create_dataloaders(\n",
    "    train_dir: str,\n",
    "    test_dir: str, \n",
    "    transform: transforms.Compose,\n",
    "    batch_size: int, \n",
    "    num_workers: int=NUM_WORKERS\n",
    "):\n",
    "    #using imagefolders to create datasets \n",
    "    train_data=datasets.ImageFolder(train_dir, transform=transform)\n",
    "    test_data=datasets.ImageFolder(test_dir, transform=transform)\n",
    "    \n",
    "    \n",
    "    #getting class names \n",
    "    class_names=train_data.classes\n",
    "    \n",
    "    #turning images into data loaders \n",
    "    train_dataloader=DataLoader(\n",
    "        train_data, \n",
    "        batch_size=batch_size,\n",
    "        shuffle=True,\n",
    "        num_workers=num_workers,\n",
    "        pin_memory=True,\n",
    "    )\n",
    "    \n",
    "    test_dataloader=DataLoader(\n",
    "        test_data,\n",
    "        batch_size=batch_size,\n",
    "        shuffle=False,\n",
    "        num_workers=num_workers,\n",
    "        pin_memory=True,\n",
    "    )\n",
    "    return train_dataloader, test_dataloader, class_names\n",
    "\n",
    "\n",
    "\n",
    "\n",
    "\n",
    "\n"
   ]
  },
  {
   "cell_type": "code",
   "execution_count": 5,
   "id": "624a1833",
   "metadata": {
    "execution": {
     "iopub.execute_input": "2024-04-26T09:50:57.225636Z",
     "iopub.status.busy": "2024-04-26T09:50:57.225136Z",
     "iopub.status.idle": "2024-04-26T09:50:57.230587Z",
     "shell.execute_reply": "2024-04-26T09:50:57.229691Z"
    },
    "papermill": {
     "duration": 0.017149,
     "end_time": "2024-04-26T09:50:57.232725",
     "exception": false,
     "start_time": "2024-04-26T09:50:57.215576",
     "status": "completed"
    },
    "tags": []
   },
   "outputs": [
    {
     "name": "stdout",
     "output_type": "stream",
     "text": [
      "Manually created transforms: Compose(\n",
      "    Resize(size=(224, 224), interpolation=bilinear, max_size=None, antialias=warn)\n",
      "    ToTensor()\n",
      ")\n"
     ]
    }
   ],
   "source": [
    "#create image size \n",
    "IMG_SIZE=224\n",
    "#creating transform pipeline manually \n",
    "manual_transforms=transforms.Compose([\n",
    "    transforms.Resize((IMG_SIZE, IMG_SIZE)),\n",
    "    transforms.ToTensor(),\n",
    "])\n",
    "print(f\"Manually created transforms: {manual_transforms}\")\n",
    "#resized the images and converted them into tensors\n"
   ]
  },
  {
   "cell_type": "code",
   "execution_count": 6,
   "id": "9f30dfb5",
   "metadata": {
    "execution": {
     "iopub.execute_input": "2024-04-26T09:50:57.252991Z",
     "iopub.status.busy": "2024-04-26T09:50:57.252293Z",
     "iopub.status.idle": "2024-04-26T09:51:10.364035Z",
     "shell.execute_reply": "2024-04-26T09:51:10.362990Z"
    },
    "papermill": {
     "duration": 13.123595,
     "end_time": "2024-04-26T09:51:10.366206",
     "exception": false,
     "start_time": "2024-04-26T09:50:57.242611",
     "status": "completed"
    },
    "tags": []
   },
   "outputs": [
    {
     "data": {
      "text/plain": [
       "(<torch.utils.data.dataloader.DataLoader at 0x7ae0140fdc00>,\n",
       " <torch.utils.data.dataloader.DataLoader at 0x7ae0140ffe50>,\n",
       " ['Authentic', 'Forged'])"
      ]
     },
     "execution_count": 6,
     "metadata": {},
     "output_type": "execute_result"
    }
   ],
   "source": [
    "#creating image size \n",
    "BATCH_SIZE=32\n",
    "\n",
    "#creating data loaders \n",
    "train_dataloader, test_dataloader, class_names=create_dataloaders(\n",
    "    train_dir=train_dir, \n",
    "    test_dir=test_dir,\n",
    "    transform=manual_transforms,\n",
    "    batch_size=BATCH_SIZE\n",
    ")\n",
    "\n",
    "\n",
    "train_dataloader, test_dataloader, class_names"
   ]
  },
  {
   "cell_type": "code",
   "execution_count": 7,
   "id": "85776279",
   "metadata": {
    "execution": {
     "iopub.execute_input": "2024-04-26T09:51:10.388322Z",
     "iopub.status.busy": "2024-04-26T09:51:10.388030Z",
     "iopub.status.idle": "2024-04-26T09:51:12.100754Z",
     "shell.execute_reply": "2024-04-26T09:51:12.099677Z"
    },
    "papermill": {
     "duration": 1.727683,
     "end_time": "2024-04-26T09:51:12.104410",
     "exception": false,
     "start_time": "2024-04-26T09:51:10.376727",
     "status": "completed"
    },
    "tags": []
   },
   "outputs": [
    {
     "name": "stdout",
     "output_type": "stream",
     "text": [
      "torch.Size([3, 224, 224]) tensor(0)\n"
     ]
    },
    {
     "data": {
      "image/png": "[encoded data removed]",
      "text/plain": [
       "<Figure size 640x480 with 1 Axes>"
      ]
     },
     "metadata": {},
     "output_type": "display_data"
    }
   ],
   "source": [
    "#getting a batch of images\n",
    "image_batch, label_batch = next(iter(train_dataloader))\n",
    "\n",
    "# Get a single image from the batch\n",
    "image, label = image_batch[0], label_batch[0]\n",
    "\n",
    "# View the batch shapes\n",
    "print(image.shape, label)\n",
    "    \n",
    "# Plot image with matplotlib\n",
    "plt.imshow(image.permute(1, 2, 0)) # rearrange image dimensions to suit matplotlib [color_channels, height, width] -> [height, width, color_channels]\n",
    "plt.title(class_names[label])\n",
    "plt.axis(False);"
   ]
  },
  {
   "cell_type": "markdown",
   "id": "4d4c40d5",
   "metadata": {
    "papermill": {
     "duration": 0.013369,
     "end_time": "2024-04-26T09:51:12.130972",
     "exception": false,
     "start_time": "2024-04-26T09:51:12.117603",
     "status": "completed"
    },
    "tags": []
   },
   "source": [
    "steps:\n",
    "1. turning images into patches \n",
    "2. flatten the patch feature maps into a single dimension \n",
    "3. convert the output into desired output (flattened 2D patches)"
   ]
  },
  {
   "cell_type": "code",
   "execution_count": 8,
   "id": "b5eb61c7",
   "metadata": {
    "execution": {
     "iopub.execute_input": "2024-04-26T09:51:12.162047Z",
     "iopub.status.busy": "2024-04-26T09:51:12.161113Z",
     "iopub.status.idle": "2024-04-26T09:51:12.171083Z",
     "shell.execute_reply": "2024-04-26T09:51:12.170126Z"
    },
    "papermill": {
     "duration": 0.030257,
     "end_time": "2024-04-26T09:51:12.174115",
     "exception": false,
     "start_time": "2024-04-26T09:51:12.143858",
     "status": "completed"
    },
    "tags": []
   },
   "outputs": [],
   "source": [
    "class PatchEmbedding(nn.Module):\n",
    "    def __init__(self, in_channels: int = 3, patch_size: int = 16, embedding_dim: int = 768):\n",
    "        #in_channels is 3 because it is an RGB image - three channels \n",
    "        #patch_size is 16, following the originial prescribed number\n",
    "        #embedding dimension - 16*16*3 \n",
    "        super().__init__()\n",
    "        #the below is used to convert an image into its patches \n",
    "        self.patcher = nn.Conv2d(in_channels=in_channels, #input image dimensions \n",
    "                                 out_channels=embedding_dim, #output image desired dimensions \n",
    "                                 kernel_size=patch_size, #kernel is like filter \n",
    "                                 stride=patch_size, #the filters don't overlap \n",
    "                                 padding=0)\n",
    "        # Remove the flatten operation from __init__\n",
    "        # self.flatten = torch.flatten(start_dim=2, end_dim=3)\n",
    "\n",
    "    def forward(self, x):\n",
    "        image_resolution = x.shape[-1]\n",
    "        assert image_resolution % patch_size == 0, f\"Input image size must be divisible by patch size, image shape: {image_resolution}, patch_size: {patch_size}\"\n",
    "        \n",
    "        x_patched = self.patcher(x)\n",
    "        # Apply flatten operation here\n",
    "        x_flattened = torch.flatten(x_patched, start_dim=2, end_dim=3)\n",
    "        \n",
    "        return x_flattened.permute(0, 2, 1)\n",
    "    \n",
    "#desired output is (196,768). basically converting the input images into 1D vectors with 768 values each "
   ]
  },
  {
   "cell_type": "code",
   "execution_count": 9,
   "id": "32142420",
   "metadata": {
    "execution": {
     "iopub.execute_input": "2024-04-26T09:51:12.211348Z",
     "iopub.status.busy": "2024-04-26T09:51:12.209964Z",
     "iopub.status.idle": "2024-04-26T09:51:12.297583Z",
     "shell.execute_reply": "2024-04-26T09:51:12.296325Z"
    },
    "papermill": {
     "duration": 0.107399,
     "end_time": "2024-04-26T09:51:12.299692",
     "exception": false,
     "start_time": "2024-04-26T09:51:12.192293",
     "status": "completed"
    },
    "tags": []
   },
   "outputs": [
    {
     "name": "stdout",
     "output_type": "stream",
     "text": [
      "Input image shape: torch.Size([1, 3, 224, 224])\n",
      "Output patch embedding shape : torch.Size([1, 196, 768])\n"
     ]
    }
   ],
   "source": [
    "#testing it on a single image \n",
    "patch_size=16 \n",
    "\n",
    "def set_seeds(seed: int=42):\n",
    "    torch.manual_seed(seed)\n",
    "    torch.cuda.manual_seed(seed)\n",
    "    \n",
    "set_seeds()\n",
    "\n",
    "patchify=PatchEmbedding(in_channels=3,\n",
    "                       patch_size=16, \n",
    "                       embedding_dim=768)\n",
    "\n",
    "#passing a single image through \n",
    "print(f\"Input image shape: {image.unsqueeze(0).shape}\")\n",
    "patch_embedded_image=patchify(image.unsqueeze(0))\n",
    "print(f\"Output patch embedding shape : {patch_embedded_image.shape}\")"
   ]
  },
  {
   "cell_type": "code",
   "execution_count": 10,
   "id": "9b07e227",
   "metadata": {
    "execution": {
     "iopub.execute_input": "2024-04-26T09:51:12.327456Z",
     "iopub.status.busy": "2024-04-26T09:51:12.327132Z",
     "iopub.status.idle": "2024-04-26T09:51:12.362690Z",
     "shell.execute_reply": "2024-04-26T09:51:12.361497Z"
    },
    "papermill": {
     "duration": 0.05184,
     "end_time": "2024-04-26T09:51:12.364840",
     "exception": false,
     "start_time": "2024-04-26T09:51:12.313000",
     "status": "completed"
    },
    "tags": []
   },
   "outputs": [
    {
     "name": "stdout",
     "output_type": "stream",
     "text": [
      "tensor([[[-0.6158,  0.2114, -0.2422,  ...,  0.5171, -0.2293,  0.2082],\n",
      "         [-0.5888,  0.2016, -0.2403,  ...,  0.5082, -0.2300,  0.2095],\n",
      "         [-0.5771,  0.1958, -0.2331,  ...,  0.5044, -0.2219,  0.1991],\n",
      "         ...,\n",
      "         [-0.0613, -0.0139, -0.0255,  ...,  0.0411, -0.0311, -0.0307],\n",
      "         [-0.0299, -0.0057, -0.0386,  ...,  0.0482, -0.0247,  0.0259],\n",
      "         [-0.1878, -0.0229, -0.0629,  ...,  0.0697, -0.0261,  0.0335]]],\n",
      "       grad_fn=<PermuteBackward0>)\n",
      "Patch embedding shape: torch.Size([1, 196, 768])->[batch_size, number_of_patches, embedding_dimension]\n"
     ]
    }
   ],
   "source": [
    "#viewing the patch embedding and patch embedding shape \n",
    "print(patch_embedded_image)\n",
    "print(f\"Patch embedding shape: {patch_embedded_image.shape}->[batch_size, number_of_patches, embedding_dimension]\")\n",
    "\n",
    "#in the output, we'll have 196 different patches, and each one will have 768 different values "
   ]
  },
  {
   "cell_type": "markdown",
   "id": "846ede48",
   "metadata": {
    "papermill": {
     "duration": 0.012942,
     "end_time": "2024-04-26T09:51:12.391283",
     "exception": false,
     "start_time": "2024-04-26T09:51:12.378341",
     "status": "completed"
    },
    "tags": []
   },
   "source": [
    "till now, we have done linear projection of the images. Now the task is to add class embedding and then to add position embedding. "
   ]
  },
  {
   "cell_type": "code",
   "execution_count": 11,
   "id": "7eee81ee",
   "metadata": {
    "execution": {
     "iopub.execute_input": "2024-04-26T09:51:12.419516Z",
     "iopub.status.busy": "2024-04-26T09:51:12.418861Z",
     "iopub.status.idle": "2024-04-26T09:51:12.451451Z",
     "shell.execute_reply": "2024-04-26T09:51:12.450204Z"
    },
    "papermill": {
     "duration": 0.049226,
     "end_time": "2024-04-26T09:51:12.453616",
     "exception": false,
     "start_time": "2024-04-26T09:51:12.404390",
     "status": "completed"
    },
    "tags": []
   },
   "outputs": [
    {
     "name": "stdout",
     "output_type": "stream",
     "text": [
      "Image tensor shape: torch.Size([3, 224, 224])\n",
      "Input image with batch dimension shape: torch.Size([1, 3, 224, 224])\n"
     ]
    },
    {
     "name": "stdout",
     "output_type": "stream",
     "text": [
      "Patching embedding shape: torch.Size([1, 196, 768])\n",
      "Class token embedding shape: torch.Size([1, 1, 768])\n",
      "Patch embedding with class token shape: torch.Size([1, 197, 768])\n",
      "Patch and position embedding shape: torch.Size([1, 197, 768])\n",
      "tensor([[[ 1.0000,  1.0000,  1.0000,  ...,  1.0000,  1.0000,  1.0000],\n",
      "         [-0.6158,  0.2114, -0.2422,  ...,  0.5171, -0.2293,  0.2082],\n",
      "         [-0.5888,  0.2016, -0.2403,  ...,  0.5082, -0.2300,  0.2095],\n",
      "         ...,\n",
      "         [-0.0613, -0.0139, -0.0255,  ...,  0.0411, -0.0311, -0.0307],\n",
      "         [-0.0299, -0.0057, -0.0386,  ...,  0.0482, -0.0247,  0.0259],\n",
      "         [-0.1878, -0.0229, -0.0629,  ...,  0.0697, -0.0261,  0.0335]]],\n",
      "       grad_fn=<CatBackward0>)\n"
     ]
    }
   ],
   "source": [
    "# Now add the the learnable class embedding and position embeddings\n",
    "# From start to positional encoding: All in 1 cell\n",
    "\n",
    "set_seeds()\n",
    "\n",
    "# 1. Set patch size\n",
    "patch_size = 16\n",
    "\n",
    "# 2. Print shape of original image tensor and get the image dimensions\n",
    "print(f\"Image tensor shape: {image.shape}\")\n",
    "height, width = image.shape[1], image.shape[2]\n",
    "\n",
    "# 3. Get image tensor and add batch dimension\n",
    "#adding a batch dimension allows you to process multiple images parallely \n",
    "x = image.unsqueeze(0)\n",
    "print(f\"Input image with batch dimension shape: {x.shape}\")\n",
    "\n",
    "# 4. Create patch embedding layer\n",
    "patch_embedding_layer = PatchEmbedding(in_channels=3,\n",
    "                                       patch_size=patch_size,\n",
    "                                       embedding_dim=768)\n",
    "#this allows the transformer model to process the images, similar tokens in nlp \n",
    "#the patch embedding is for examining the local features\n",
    "\n",
    "# 5. Pass image through patch embedding layer\n",
    "patch_embedding = patch_embedding_layer(x)\n",
    "print(f\"Patching embedding shape: {patch_embedding.shape}\")\n",
    "\n",
    "\n",
    "\n",
    "# 6. Create class token embedding\n",
    "batch_size = patch_embedding.shape[0]\n",
    "embedding_dimension = patch_embedding.shape[-1]\n",
    "class_token = nn.Parameter(torch.ones(batch_size, 1, embedding_dimension),\n",
    "                           requires_grad=True) # make sure it's learnable\n",
    "print(f\"Class token embedding shape: {class_token.shape}\")\n",
    "\n",
    "#class token is for looking at the entire image to identify features.\n",
    "#class token is used to gather info from all patches and make a decision \n",
    "\n",
    "# 7. Prepend class token embedding to patch embedding\n",
    "patch_embedding_class_token = torch.cat((class_token, patch_embedding), dim=1)\n",
    "print(f\"Patch embedding with class token shape: {patch_embedding_class_token.shape}\")\n",
    "\n",
    "# 8. Create position embedding\n",
    "number_of_patches = int((height * width) / patch_size**2)\n",
    "position_embedding = nn.Parameter(torch.ones(1, number_of_patches+1, embedding_dimension),\n",
    "                                  requires_grad=True) # make sure it's learnable\n",
    "#we have to do this because the patches get jumbled, so we have to number them in order to understand the image. \n",
    "\n",
    "\n",
    "# 9. Add position embedding to patch embedding with class token\n",
    "patch_and_position_embedding = patch_embedding_class_token + position_embedding\n",
    "print(f\"Patch and position embedding shape: {patch_and_position_embedding.shape}\")\n",
    "#patch_and_position_embedding\n",
    "\n",
    "print(patch_embedding_class_token)  #1 is added in the beginning of each"
   ]
  },
  {
   "cell_type": "markdown",
   "id": "c4850f11",
   "metadata": {
    "papermill": {
     "duration": 0.014535,
     "end_time": "2024-04-26T09:51:12.481581",
     "exception": false,
     "start_time": "2024-04-26T09:51:12.467046",
     "status": "completed"
    },
    "tags": []
   },
   "source": [
    "The above code did three things:\n",
    "1. Create patch embeddings - this examines local features \n",
    "2. class tokens -they are for the global features \n",
    "3. position embedding - they are used to number the patches because patches get jumbled and we need to be able to sort them out "
   ]
  },
  {
   "cell_type": "code",
   "execution_count": 12,
   "id": "e4282f99",
   "metadata": {
    "execution": {
     "iopub.execute_input": "2024-04-26T09:51:12.509829Z",
     "iopub.status.busy": "2024-04-26T09:51:12.509469Z",
     "iopub.status.idle": "2024-04-26T09:51:12.516696Z",
     "shell.execute_reply": "2024-04-26T09:51:12.515788Z"
    },
    "papermill": {
     "duration": 0.023661,
     "end_time": "2024-04-26T09:51:12.518711",
     "exception": false,
     "start_time": "2024-04-26T09:51:12.495050",
     "status": "completed"
    },
    "tags": []
   },
   "outputs": [],
   "source": [
    "class MultiheadSelfAttentionBlock(nn.Module):\n",
    "    def __init__(self,\n",
    "                 embedding_dim:int=768, \n",
    "                 num_heads:int=12, #used this value in the original ViT paper \n",
    "                 attn_dropout:float=0):\n",
    "        super().__init__()\n",
    "        self.layer_norm = nn.LayerNorm(normalized_shape=embedding_dim)\n",
    "        \n",
    "        self.multihead_attn = nn.MultiheadAttention(embed_dim=embedding_dim,\n",
    "                                                    num_heads=num_heads,\n",
    "                                                    dropout=attn_dropout,\n",
    "                                                    batch_first=True)\n",
    "\n",
    "    def forward(self, x):\n",
    "        x = self.layer_norm(x)\n",
    "        attn_output, _ = self.multihead_attn(query=x,\n",
    "                                             key=x,\n",
    "                                             value=x, \n",
    "                                             need_weights=False)\n",
    "        return attn_output"
   ]
  },
  {
   "cell_type": "markdown",
   "id": "36de31f1",
   "metadata": {
    "papermill": {
     "duration": 0.013495,
     "end_time": "2024-04-26T09:51:12.545457",
     "exception": false,
     "start_time": "2024-04-26T09:51:12.531962",
     "status": "completed"
    },
    "tags": []
   },
   "source": [
    "1. Layer normalization is used to put all the images into a range \n",
    "2. multi head self attention - focuses on diff parts of the images at the same time \n",
    "3. embedding dimension - token information \n",
    "4. number of heads - looking at the same piece of text from different angels\n",
    "5. dropout - to reduce overfitting "
   ]
  },
  {
   "cell_type": "code",
   "execution_count": 13,
   "id": "bedefd71",
   "metadata": {
    "execution": {
     "iopub.execute_input": "2024-04-26T09:51:12.573386Z",
     "iopub.status.busy": "2024-04-26T09:51:12.573072Z",
     "iopub.status.idle": "2024-04-26T09:51:12.580790Z",
     "shell.execute_reply": "2024-04-26T09:51:12.579662Z"
    },
    "papermill": {
     "duration": 0.02404,
     "end_time": "2024-04-26T09:51:12.582946",
     "exception": false,
     "start_time": "2024-04-26T09:51:12.558906",
     "status": "completed"
    },
    "tags": []
   },
   "outputs": [],
   "source": [
    "class MLPBlock(nn.Module):\n",
    "    def __init__(self,\n",
    "                 embedding_dim:int=768,\n",
    "                 mlp_size:int=3072, \n",
    "                 dropout:float=0.1): \n",
    "        super().__init__()\n",
    "        \n",
    "        self.layer_norm = nn.LayerNorm(normalized_shape=embedding_dim)\n",
    "        self.mlp = nn.Sequential(\n",
    "            nn.Linear(in_features=embedding_dim,\n",
    "                      out_features=mlp_size),\n",
    "            nn.GELU(),\n",
    "            nn.Dropout(p=dropout),\n",
    "            nn.Linear(in_features=mlp_size,\n",
    "                      out_features=embedding_dim),\n",
    "            nn.Dropout(p=dropout)\n",
    "        )\n",
    "    \n",
    "    def forward(self, x):\n",
    "        x = self.layer_norm(x)\n",
    "        x = self.mlp(x)\n",
    "        return x"
   ]
  },
  {
   "cell_type": "markdown",
   "id": "7184b94a",
   "metadata": {
    "papermill": {
     "duration": 0.012932,
     "end_time": "2024-04-26T09:51:12.609696",
     "exception": false,
     "start_time": "2024-04-26T09:51:12.596764",
     "status": "completed"
    },
    "tags": []
   },
   "source": [
    "Multi layer perceptron - linear transformation, dropout, linear transformation, dropout. "
   ]
  },
  {
   "cell_type": "code",
   "execution_count": 14,
   "id": "d945a530",
   "metadata": {
    "execution": {
     "iopub.execute_input": "2024-04-26T09:51:12.636314Z",
     "iopub.status.busy": "2024-04-26T09:51:12.635699Z",
     "iopub.status.idle": "2024-04-26T09:51:12.642390Z",
     "shell.execute_reply": "2024-04-26T09:51:12.641541Z"
    },
    "papermill": {
     "duration": 0.021876,
     "end_time": "2024-04-26T09:51:12.644315",
     "exception": false,
     "start_time": "2024-04-26T09:51:12.622439",
     "status": "completed"
    },
    "tags": []
   },
   "outputs": [],
   "source": [
    "class TransformerEncoderBlock(nn.Module):\n",
    "    def __init__(self,\n",
    "                 embedding_dim:int=768, \n",
    "                 num_heads:int=12, \n",
    "                 mlp_size:int=3072,\n",
    "                 mlp_dropout:float=0.1,\n",
    "                 attn_dropout:float=0):\n",
    "        super().__init__()\n",
    "        self.msa_block = MultiheadSelfAttentionBlock(embedding_dim=embedding_dim,\n",
    "                                                     num_heads=num_heads,\n",
    "                                                     attn_dropout=attn_dropout)\n",
    "        self.mlp_block =  MLPBlock(embedding_dim=embedding_dim,\n",
    "                                   mlp_size=mlp_size,\n",
    "                                   dropout=mlp_dropout)\n",
    "    \n",
    "    def forward(self, x):\n",
    "        x =  self.msa_block(x) + x \n",
    "        x = self.mlp_block(x) + x \n",
    "        \n",
    "        return x"
   ]
  },
  {
   "cell_type": "code",
   "execution_count": 15,
   "id": "354a5ee4",
   "metadata": {
    "execution": {
     "iopub.execute_input": "2024-04-26T09:51:12.670061Z",
     "iopub.status.busy": "2024-04-26T09:51:12.669161Z",
     "iopub.status.idle": "2024-04-26T09:51:12.977433Z",
     "shell.execute_reply": "2024-04-26T09:51:12.976444Z"
    },
    "papermill": {
     "duration": 0.32312,
     "end_time": "2024-04-26T09:51:12.979511",
     "exception": false,
     "start_time": "2024-04-26T09:51:12.656391",
     "status": "completed"
    },
    "tags": []
   },
   "outputs": [
    {
     "data": {
      "text/plain": [
       "==================================================================================================================================\n",
       "Layer (type (var_name))                            Input Shape          Output Shape         Param #              Trainable\n",
       "==================================================================================================================================\n",
       "TransformerEncoderBlock (TransformerEncoderBlock)  [1, 197, 768]        [1, 197, 768]        --                   True\n",
       "├─MultiheadSelfAttentionBlock (msa_block)          [1, 197, 768]        [1, 197, 768]        --                   True\n",
       "│    └─LayerNorm (layer_norm)                      [1, 197, 768]        [1, 197, 768]        1,536                True\n",
       "│    └─MultiheadAttention (multihead_attn)         --                   [1, 197, 768]        2,362,368            True\n",
       "├─MLPBlock (mlp_block)                             [1, 197, 768]        [1, 197, 768]        --                   True\n",
       "│    └─LayerNorm (layer_norm)                      [1, 197, 768]        [1, 197, 768]        1,536                True\n",
       "│    └─Sequential (mlp)                            [1, 197, 768]        [1, 197, 768]        --                   True\n",
       "│    │    └─Linear (0)                             [1, 197, 768]        [1, 197, 3072]       2,362,368            True\n",
       "│    │    └─GELU (1)                               [1, 197, 3072]       [1, 197, 3072]       --                   --\n",
       "│    │    └─Dropout (2)                            [1, 197, 3072]       [1, 197, 3072]       --                   --\n",
       "│    │    └─Linear (3)                             [1, 197, 3072]       [1, 197, 768]        2,360,064            True\n",
       "│    │    └─Dropout (4)                            [1, 197, 768]        [1, 197, 768]        --                   --\n",
       "==================================================================================================================================\n",
       "Total params: 7,087,872\n",
       "Trainable params: 7,087,872\n",
       "Non-trainable params: 0\n",
       "Total mult-adds (M): 4.73\n",
       "==================================================================================================================================\n",
       "Input size (MB): 0.61\n",
       "Forward/backward pass size (MB): 8.47\n",
       "Params size (MB): 18.90\n",
       "Estimated Total Size (MB): 27.98\n",
       "=================================================================================================================================="
      ]
     },
     "execution_count": 15,
     "metadata": {},
     "output_type": "execute_result"
    }
   ],
   "source": [
    "transformer_encoder_block = TransformerEncoderBlock()\n",
    "\n",
    "from torchinfo import summary\n",
    "summary(model=transformer_encoder_block,\n",
    "        input_size=(1, 197, 768),\n",
    "        col_names=[\"input_size\", \"output_size\", \"num_params\", \"trainable\"],\n",
    "        col_width=20,\n",
    "       row_settings=[\"var_names\"])"
   ]
  },
  {
   "cell_type": "code",
   "execution_count": 16,
   "id": "a5576efe",
   "metadata": {
    "execution": {
     "iopub.execute_input": "2024-04-26T09:51:13.007202Z",
     "iopub.status.busy": "2024-04-26T09:51:13.006914Z",
     "iopub.status.idle": "2024-04-26T09:51:13.021061Z",
     "shell.execute_reply": "2024-04-26T09:51:13.020187Z"
    },
    "papermill": {
     "duration": 0.030345,
     "end_time": "2024-04-26T09:51:13.022999",
     "exception": false,
     "start_time": "2024-04-26T09:51:12.992654",
     "status": "completed"
    },
    "tags": []
   },
   "outputs": [],
   "source": [
    "class ViT(nn.Module):\n",
    "    def __init__(self,\n",
    "                 img_size:int=224,\n",
    "                 in_channels:int=3,\n",
    "                 patch_size:int=16,\n",
    "                 num_transformer_layers:int=12,\n",
    "                 embedding_dim:int=768,\n",
    "                 mlp_size:int=3072, \n",
    "                 num_heads:int=12, \n",
    "                 attn_dropout:float=0,\n",
    "                 mlp_dropout:float=0.1,\n",
    "                 embedding_dropout:float=0.1,\n",
    "                 num_classes:int=1000): \n",
    "        super().__init__() \n",
    "        \n",
    "        \n",
    "        assert img_size % patch_size == 0, f\"Image size must be divisible by patch size, image size: {img_size}, patch size: {patch_size}.\"\n",
    "        \n",
    "        \n",
    "        self.num_patches = (img_size * img_size) // patch_size**2\n",
    "                 \n",
    "        \n",
    "        self.class_embedding = nn.Parameter(data=torch.randn(1, 1, embedding_dim),\n",
    "                                            requires_grad=True)\n",
    "        \n",
    "        \n",
    "        self.position_embedding = nn.Parameter(data=torch.randn(1, self.num_patches+1, embedding_dim),\n",
    "                                               requires_grad=True)\n",
    "                \n",
    "        \n",
    "        self.embedding_dropout = nn.Dropout(p=embedding_dropout)\n",
    "        \n",
    "        \n",
    "        self.patch_embedding = PatchEmbedding(in_channels=in_channels,\n",
    "                                              patch_size=patch_size,\n",
    "                                              embedding_dim=embedding_dim)\n",
    "        \n",
    "        \n",
    "        \n",
    "        self.transformer_encoder = nn.Sequential(*[TransformerEncoderBlock(embedding_dim=embedding_dim,\n",
    "                                                                            num_heads=num_heads,\n",
    "                                                                            mlp_size=mlp_size,\n",
    "                                                                            mlp_dropout=mlp_dropout) for _ in range(num_transformer_layers)])\n",
    "       \n",
    "        \n",
    "        self.classifier = nn.Sequential(\n",
    "            nn.LayerNorm(normalized_shape=embedding_dim),\n",
    "            nn.Linear(in_features=embedding_dim, \n",
    "                      out_features=num_classes)\n",
    "        )\n",
    "    \n",
    "\n",
    "    def forward(self, x):\n",
    "        \n",
    "\n",
    "        batch_size = x.shape[0]\n",
    "        \n",
    "\n",
    "        class_token = self.class_embedding.expand(batch_size, -1, -1)\n",
    "\n",
    "\n",
    "        x = self.patch_embedding(x)\n",
    "\n",
    "\n",
    "        x = torch.cat((class_token, x), dim=1)\n",
    "\n",
    "\n",
    "        x = self.position_embedding + x\n",
    "\n",
    "\n",
    "        x = self.embedding_dropout(x)\n",
    "\n",
    "\n",
    "        x = self.transformer_encoder(x)\n",
    "\n",
    "\n",
    "        x = self.classifier(x[:, 0])\n",
    "\n",
    "        return x "
   ]
  },
  {
   "cell_type": "code",
   "execution_count": 17,
   "id": "9cced7c1",
   "metadata": {
    "execution": {
     "iopub.execute_input": "2024-04-26T09:51:13.049845Z",
     "iopub.status.busy": "2024-04-26T09:51:13.049578Z",
     "iopub.status.idle": "2024-04-26T09:51:13.934071Z",
     "shell.execute_reply": "2024-04-26T09:51:13.933259Z"
    },
    "papermill": {
     "duration": 0.900442,
     "end_time": "2024-04-26T09:51:13.936606",
     "exception": false,
     "start_time": "2024-04-26T09:51:13.036164",
     "status": "completed"
    },
    "tags": []
   },
   "outputs": [],
   "source": [
    "vit = ViT(num_classes=len(class_names))"
   ]
  },
  {
   "cell_type": "code",
   "execution_count": 18,
   "id": "9633dba6",
   "metadata": {
    "execution": {
     "iopub.execute_input": "2024-04-26T09:51:13.964614Z",
     "iopub.status.busy": "2024-04-26T09:51:13.964275Z",
     "iopub.status.idle": "2024-04-26T09:51:15.897316Z",
     "shell.execute_reply": "2024-04-26T09:51:15.896109Z"
    },
    "papermill": {
     "duration": 1.94991,
     "end_time": "2024-04-26T09:51:15.899926",
     "exception": false,
     "start_time": "2024-04-26T09:51:13.950016",
     "status": "completed"
    },
    "tags": []
   },
   "outputs": [
    {
     "name": "stdout",
     "output_type": "stream",
     "text": [
      "Cloning into 'Image-Classification-Using-Vision-transformer'...\r\n"
     ]
    },
    {
     "name": "stdout",
     "output_type": "stream",
     "text": [
      "remote: Enumerating objects: 43, done.\u001b[K\r\n",
      "remote: Counting objects:   7% (1/14)\u001b[K\r",
      "remote: Counting objects:  14% (2/14)\u001b[K\r",
      "remote: Counting objects:  21% (3/14)\u001b[K\r",
      "remote: Counting objects:  28% (4/14)\u001b[K\r",
      "remote: Counting objects:  35% (5/14)\u001b[K\r",
      "remote: Counting objects:  42% (6/14)\u001b[K\r",
      "remote: Counting objects:  50% (7/14)\u001b[K\r",
      "remote: Counting objects:  57% (8/14)\u001b[K\r",
      "remote: Counting objects:  64% (9/14)\u001b[K\r",
      "remote: Counting objects:  71% (10/14)\u001b[K\r",
      "remote: Counting objects:  78% (11/14)\u001b[K\r",
      "remote: Counting objects:  85% (12/14)\u001b[K\r",
      "remote: Counting objects:  92% (13/14)\u001b[K\r",
      "remote: Counting objects: 100% (14/14)\u001b[K\r",
      "remote: Counting objects: 100% (14/14), done.\u001b[K\r\n",
      "remote: Compressing objects:  16% (1/6)\u001b[K\r",
      "remote: Compressing objects:  33% (2/6)\u001b[K\r",
      "remote: Compressing objects:  50% (3/6)\u001b[K\r",
      "remote: Compressing objects:  66% (4/6)\u001b[K\r",
      "remote: Compressing objects:  83% (5/6)\u001b[K\r",
      "remote: Compressing objects: 100% (6/6)\u001b[K\r",
      "remote: Compressing objects: 100% (6/6), done.\u001b[K\r\n",
      "Unpacking objects:   2% (1/43)\r"
     ]
    },
    {
     "name": "stdout",
     "output_type": "stream",
     "text": [
      "Unpacking objects:   4% (2/43)\r"
     ]
    },
    {
     "name": "stdout",
     "output_type": "stream",
     "text": [
      "Unpacking objects:   6% (3/43)\r",
      "Unpacking objects:   9% (4/43)\r"
     ]
    },
    {
     "name": "stdout",
     "output_type": "stream",
     "text": [
      "Unpacking objects:  11% (5/43)\r",
      "Unpacking objects:  13% (6/43)\r",
      "Unpacking objects:  16% (7/43)\r",
      "Unpacking objects:  18% (8/43)\r",
      "Unpacking objects:  20% (9/43)\r",
      "Unpacking objects:  23% (10/43)\r",
      "Unpacking objects:  25% (11/43)\r",
      "Unpacking objects:  27% (12/43)\r",
      "Unpacking objects:  30% (13/43)\r",
      "Unpacking objects:  32% (14/43)\r",
      "Unpacking objects:  34% (15/43)\r",
      "Unpacking objects:  37% (16/43)\r",
      "Unpacking objects:  39% (17/43)\r",
      "Unpacking objects:  41% (18/43)\r",
      "Unpacking objects:  44% (19/43)\r",
      "Unpacking objects:  46% (20/43)\r",
      "Unpacking objects:  48% (21/43)\r",
      "Unpacking objects:  51% (22/43)\r",
      "Unpacking objects:  53% (23/43)\r",
      "Unpacking objects:  55% (24/43)\r",
      "Unpacking objects:  58% (25/43)\r",
      "remote: Total 43 (delta 12), reused 8 (delta 8), pack-reused 29\u001b[K\r\n",
      "Unpacking objects:  60% (26/43)\r",
      "Unpacking objects:  62% (27/43)\r",
      "Unpacking objects:  65% (28/43)\r",
      "Unpacking objects:  67% (29/43)\r",
      "Unpacking objects:  69% (30/43)\r",
      "Unpacking objects:  72% (31/43)\r",
      "Unpacking objects:  74% (32/43)\r",
      "Unpacking objects:  76% (33/43)\r",
      "Unpacking objects:  79% (34/43)\r",
      "Unpacking objects:  81% (35/43)\r",
      "Unpacking objects:  83% (36/43)\r",
      "Unpacking objects:  86% (37/43)\r",
      "Unpacking objects:  88% (38/43)\r",
      "Unpacking objects:  90% (39/43)\r",
      "Unpacking objects:  93% (40/43)\r",
      "Unpacking objects:  95% (41/43)\r",
      "Unpacking objects:  97% (42/43)\r",
      "Unpacking objects: 100% (43/43)\r",
      "Unpacking objects: 100% (43/43), 862.12 KiB | 3.20 MiB/s, done.\r\n"
     ]
    }
   ],
   "source": [
    "!git clone https://github.com/AarohiSingla/Image-Classification-Using-Vision-transformer.git\n"
   ]
  },
  {
   "cell_type": "code",
   "execution_count": 19,
   "id": "c4b7bad1",
   "metadata": {
    "execution": {
     "iopub.execute_input": "2024-04-26T09:51:15.929340Z",
     "iopub.status.busy": "2024-04-26T09:51:15.928490Z",
     "iopub.status.idle": "2024-04-26T09:51:15.935706Z",
     "shell.execute_reply": "2024-04-26T09:51:15.934831Z"
    },
    "papermill": {
     "duration": 0.023751,
     "end_time": "2024-04-26T09:51:15.937804",
     "exception": false,
     "start_time": "2024-04-26T09:51:15.914053",
     "status": "completed"
    },
    "tags": []
   },
   "outputs": [
    {
     "name": "stdout",
     "output_type": "stream",
     "text": [
      "/kaggle/working/Image-Classification-Using-Vision-transformer/going_modular\n"
     ]
    }
   ],
   "source": [
    "%cd Image-Classification-Using-Vision-transformer/going_modular/\n"
   ]
  },
  {
   "cell_type": "code",
   "execution_count": 20,
   "id": "5a0fe11e",
   "metadata": {
    "execution": {
     "iopub.execute_input": "2024-04-26T09:51:15.964516Z",
     "iopub.status.busy": "2024-04-26T09:51:15.964204Z",
     "iopub.status.idle": "2024-04-26T09:51:16.976246Z",
     "shell.execute_reply": "2024-04-26T09:51:16.974872Z"
    },
    "papermill": {
     "duration": 1.028399,
     "end_time": "2024-04-26T09:51:16.978883",
     "exception": false,
     "start_time": "2024-04-26T09:51:15.950484",
     "status": "completed"
    },
    "tags": []
   },
   "outputs": [],
   "source": [
    "!cp -r going_modular /kaggle/working/\n"
   ]
  },
  {
   "cell_type": "code",
   "execution_count": 21,
   "id": "e3b86ff1",
   "metadata": {
    "execution": {
     "iopub.execute_input": "2024-04-26T09:51:17.008374Z",
     "iopub.status.busy": "2024-04-26T09:51:17.008025Z"
    },
    "papermill": {
     "duration": null,
     "end_time": null,
     "exception": false,
     "start_time": "2024-04-26T09:51:16.992870",
     "status": "running"
    },
    "tags": []
   },
   "outputs": [
    {
     "name": "stdout",
     "output_type": "stream",
     "text": [
      "Epoch: 1/100, Train Loss: 0.6055, Test Loss: 0.5932, Train Accuracy: 0.7078, Test Accuracy: 0.7086\n"
     ]
    }
   ],
   "source": [
    "import torch\n",
    "from torch.nn.utils import clip_grad_norm_\n",
    "from going_modular import engine\n",
    "\n",
    "optimizer = torch.optim.SGD(params=vit.parameters(),\n",
    "                            lr=1e-4,\n",
    "                            momentum=0.9,\n",
    "                            weight_decay=0.3)\n",
    "\n",
    "loss_fn = torch.nn.CrossEntropyLoss()\n",
    "\n",
    "set_seeds()\n",
    "\n",
    "def calculate_accuracy(outputs, labels):\n",
    "    _, preds = torch.max(outputs, 1)\n",
    "    corrects = torch.sum(preds == labels.data).item()\n",
    "    accuracy = corrects / labels.size(0)\n",
    "    return accuracy\n",
    "\n",
    "def train_with_gradient_clipping(model, train_dataloader, test_dataloader, optimizer, loss_fn, epochs, device, clip_value=1.0):\n",
    "    model.to(device)  # Move model to device\n",
    "    \n",
    "    train_losses = []\n",
    "    test_losses = []\n",
    "    train_accuracies = []\n",
    "    test_accuracies = []\n",
    "\n",
    "    for epoch in range(epochs):\n",
    "        model.train()\n",
    "        train_loss = 0.0\n",
    "        correct_train = 0\n",
    "        total_train = 0\n",
    "        for inputs, labels in train_dataloader:\n",
    "            inputs, labels = inputs.to(device), labels.to(device)\n",
    "            optimizer.zero_grad()\n",
    "            outputs = model(inputs)\n",
    "            loss = loss_fn(outputs, labels)\n",
    "            loss.backward()\n",
    "            clip_grad_norm_(model.parameters(), clip_value)  # Gradient clipping\n",
    "            optimizer.step()\n",
    "            train_loss += loss.item() * inputs.size(0)\n",
    "            _, predicted = torch.max(outputs.data, 1)\n",
    "            total_train += labels.size(0)\n",
    "            correct_train += (predicted == labels).sum().item()\n",
    "\n",
    "        train_loss = train_loss / len(train_dataloader.dataset)\n",
    "        train_accuracy = correct_train / total_train\n",
    "\n",
    "        model.eval()\n",
    "        test_loss = 0.0\n",
    "        correct_test = 0\n",
    "        total_test = 0\n",
    "        for inputs, labels in test_dataloader:\n",
    "            inputs, labels = inputs.to(device), labels.to(device)\n",
    "            outputs = model(inputs)\n",
    "            loss = loss_fn(outputs, labels)\n",
    "            test_loss += loss.item() * inputs.size(0)\n",
    "            _, predicted = torch.max(outputs.data, 1)\n",
    "            total_test += labels.size(0)\n",
    "            correct_test += (predicted == labels).sum().item()\n",
    "\n",
    "        test_loss = test_loss / len(test_dataloader.dataset)\n",
    "        test_accuracy = correct_test / total_test\n",
    "        \n",
    "        # Store the results\n",
    "        train_losses.append(train_loss)\n",
    "        test_losses.append(test_loss)\n",
    "        train_accuracies.append(train_accuracy)\n",
    "        test_accuracies.append(test_accuracy)\n",
    "\n",
    "        print(f'Epoch: {epoch + 1}/{epochs}, Train Loss: {train_loss:.4f}, Test Loss: {test_loss:.4f}, Train Accuracy: {train_accuracy:.4f}, Test Accuracy: {test_accuracy:.4f}')\n",
    "\n",
    "        if epoch + 1 == 50:\n",
    "            # Save the model after 50 epochs\n",
    "            torch.save(model.state_dict(), 'vit_model.pth')\n",
    "\n",
    "    return train_losses, test_losses, train_accuracies, test_accuracies\n",
    "\n",
    "train_losses, test_losses, train_accuracies, test_accuracies = train_with_gradient_clipping(model=vit,\n",
    "                                                                                            train_dataloader=train_dataloader,\n",
    "                                                                                            test_dataloader=test_dataloader,\n",
    "                                                                                            optimizer=optimizer,\n",
    "                                                                                            loss_fn=loss_fn,\n",
    "                                                                                            epochs=100,\n",
    "                                                                                            device=device,\n",
    "                                                                                            clip_value=1.0)\n"
   ]
  },
  {
   "cell_type": "markdown",
   "id": "f633135d",
   "metadata": {
    "papermill": {
     "duration": null,
     "end_time": null,
     "exception": null,
     "start_time": null,
     "status": "pending"
    },
    "tags": []
   },
   "source": [
    "### torch.load('vit_model.pth')"
   ]
  },
  {
   "cell_type": "code",
   "execution_count": null,
   "id": "8d44a139",
   "metadata": {
    "execution": {
     "iopub.execute_input": "2024-04-25T22:34:07.713528Z",
     "iopub.status.busy": "2024-04-25T22:34:07.712632Z",
     "iopub.status.idle": "2024-04-25T22:34:08.542740Z",
     "shell.execute_reply": "2024-04-25T22:34:08.541859Z",
     "shell.execute_reply.started": "2024-04-25T22:34:07.713496Z"
    },
    "papermill": {
     "duration": null,
     "end_time": null,
     "exception": null,
     "start_time": null,
     "status": "pending"
    },
    "tags": []
   },
   "outputs": [],
   "source": [
    "# Check if the model file exists\n",
    "if os.path.exists('vit_model.pth'):\n",
    "    # Load the saved model\n",
    "    loaded_model = vit\n",
    "    loaded_model.load_state_dict(torch.load('vit_model.pth'))\n",
    "    loaded_model.eval()\n",
    "\n",
    "    # Move the model to the device\n",
    "    loaded_model.to(device)\n",
    "\n",
    "    # Plotting the training and validation losses\n",
    "    plt.figure(figsize=(10, 5))\n",
    "    plt.plot(train_losses, label='Train Loss')\n",
    "    plt.plot(test_losses, label='Test Loss')\n",
    "    plt.xlabel('Epochs')\n",
    "    plt.ylabel('Loss')\n",
    "    plt.title('Training and Test Loss')\n",
    "    plt.legend()\n",
    "    plt.show()\n",
    "\n",
    "    # Plotting the training and validation accuracies\n",
    "    plt.figure(figsize=(10, 5))\n",
    "    plt.plot(train_accuracies, label='Train Accuracy')\n",
    "    plt.plot(test_accuracies, label='Test Accuracy')\n",
    "    plt.xlabel('Epochs')\n",
    "    plt.ylabel('Accuracy')\n",
    "    plt.title('Training and Test Accuracy')\n",
    "    plt.legend()\n",
    "    plt.show()"
   ]
  },
  {
   "cell_type": "code",
   "execution_count": null,
   "id": "b93d7f0e",
   "metadata": {
    "execution": {
     "iopub.execute_input": "2024-04-26T08:58:31.160828Z",
     "iopub.status.busy": "2024-04-26T08:58:31.159981Z",
     "iopub.status.idle": "2024-04-26T08:58:32.046712Z",
     "shell.execute_reply": "2024-04-26T08:58:32.045812Z",
     "shell.execute_reply.started": "2024-04-26T08:58:31.160784Z"
    },
    "papermill": {
     "duration": null,
     "end_time": null,
     "exception": null,
     "start_time": null,
     "status": "pending"
    },
    "tags": []
   },
   "outputs": [],
   "source": [
    "model=ViT()\n",
    "print(\"The state dict keys: \\n\\n\", model.state_dict().keys())"
   ]
  },
  {
   "cell_type": "code",
   "execution_count": null,
   "id": "f5de6de6",
   "metadata": {
    "execution": {
     "iopub.execute_input": "2024-04-26T09:44:20.583234Z",
     "iopub.status.busy": "2024-04-26T09:44:20.582552Z",
     "iopub.status.idle": "2024-04-26T09:49:28.682558Z",
     "shell.execute_reply": "2024-04-26T09:49:28.681414Z",
     "shell.execute_reply.started": "2024-04-26T09:44:20.583197Z"
    },
    "papermill": {
     "duration": null,
     "end_time": null,
     "exception": null,
     "start_time": null,
     "status": "pending"
    },
    "tags": []
   },
   "outputs": [],
   "source": [
    "import torch\n",
    "from torch.nn.utils import clip_grad_norm_\n",
    "from going_modular import engine\n",
    "import os\n",
    "\n",
    "optimizer = torch.optim.SGD(params=vit.parameters(),\n",
    "                            lr=1e-4,\n",
    "                            momentum=0.9,\n",
    "                            weight_decay=0.3)\n",
    "\n",
    "loss_fn = torch.nn.CrossEntropyLoss()\n",
    "\n",
    "set_seeds()\n",
    "\n",
    "def calculate_accuracy(outputs, labels):\n",
    "    _, preds = torch.max(outputs, 1)\n",
    "    corrects = torch.sum(preds == labels.data).item()\n",
    "    accuracy = corrects / labels.size(0)\n",
    "    return accuracy\n",
    "\n",
    "def train_with_gradient_clipping(model, train_dataloader, test_dataloader, optimizer, loss_fn, epochs, device, clip_value=1.0):\n",
    "    model.to(device)  # Move model to device\n",
    "    \n",
    "    train_losses = []\n",
    "    test_losses = []\n",
    "    train_accuracies = []\n",
    "    test_accuracies = []\n",
    "\n",
    "    for epoch in range(epochs):\n",
    "        model.train()\n",
    "        train_loss = 0.0\n",
    "        correct_train = 0\n",
    "        total_train = 0\n",
    "        for inputs, labels in train_dataloader:\n",
    "            inputs, labels = inputs.to(device), labels.to(device)\n",
    "            optimizer.zero_grad()\n",
    "            outputs = model(inputs)\n",
    "            loss = loss_fn(outputs, labels)\n",
    "            loss.backward()\n",
    "            clip_grad_norm_(model.parameters(), clip_value)  # Gradient clipping\n",
    "            optimizer.step()\n",
    "            train_loss += loss.item() * inputs.size(0)\n",
    "            _, predicted = torch.max(outputs.data, 1)\n",
    "            total_train += labels.size(0)\n",
    "            correct_train += (predicted == labels).sum().item()\n",
    "\n",
    "        train_loss = train_loss / len(train_dataloader.dataset)\n",
    "        train_accuracy = correct_train / total_train\n",
    "\n",
    "        model.eval()\n",
    "        test_loss = 0.0\n",
    "        correct_test = 0\n",
    "        total_test = 0\n",
    "        for inputs, labels in test_dataloader:\n",
    "            inputs, labels = inputs.to(device), labels.to(device)\n",
    "            outputs = model(inputs)\n",
    "            loss = loss_fn(outputs, labels)\n",
    "            test_loss += loss.item() * inputs.size(0)\n",
    "            _, predicted = torch.max(outputs.data, 1)\n",
    "            total_test += labels.size(0)\n",
    "            correct_test += (predicted == labels).sum().item()\n",
    "\n",
    "        test_loss = test_loss / len(test_dataloader.dataset)\n",
    "        test_accuracy = correct_test / total_test\n",
    "        \n",
    "        # Store the results\n",
    "        train_losses.append(train_loss)\n",
    "        test_losses.append(test_loss)\n",
    "        train_accuracies.append(train_accuracy)\n",
    "        test_accuracies.append(test_accuracy)\n",
    "\n",
    "        print(f'Epoch: {epoch + 1}/{epochs}, Train Loss: {train_loss:.4f}, Test Loss: {test_loss:.4f}, Train Accuracy: {train_accuracy:.4f}, Test Accuracy: {test_accuracy:.4f}')\n",
    "\n",
    "        # Save the model after every epoch to the output directory\n",
    "        save_path = f'/kaggle/working/vit_model_epoch_{epoch+1}.pth'\n",
    "        try:\n",
    "            torch.save(model.state_dict(), save_path)\n",
    "            print(f\"Model saved successfully at {save_path}\")\n",
    "        except Exception as e:\n",
    "            print(f\"Error occurred while saving the model: {e}\")\n",
    "\n",
    "    return train_losses, test_losses, train_accuracies, test_accuracies\n",
    "\n",
    "train_losses, test_losses, train_accuracies, test_accuracies = train_with_gradient_clipping(model=vit,\n",
    "                                                                                            train_dataloader=train_dataloader,\n",
    "                                                                                            test_dataloader=test_dataloader,\n",
    "                                                                                            optimizer=optimizer,\n",
    "                                                                                            loss_fn=loss_fn,\n",
    "                                                                                            epochs=1,\n",
    "                                                                                            device=device,\n",
    "                                                                                            clip_value=1.0)\n"
   ]
  },
  {
   "cell_type": "code",
   "execution_count": null,
   "id": "eedcdeab",
   "metadata": {
    "execution": {
     "iopub.execute_input": "2024-04-26T09:39:16.732191Z",
     "iopub.status.busy": "2024-04-26T09:39:16.731227Z",
     "iopub.status.idle": "2024-04-26T09:39:16.762561Z",
     "shell.execute_reply": "2024-04-26T09:39:16.761534Z",
     "shell.execute_reply.started": "2024-04-26T09:39:16.732153Z"
    },
    "papermill": {
     "duration": null,
     "end_time": null,
     "exception": null,
     "start_time": null,
     "status": "pending"
    },
    "tags": []
   },
   "outputs": [],
   "source": [
    "import os\n",
    "\n",
    "output_dir = '/kaggle/working/'\n",
    "files = os.listdir(output_dir)\n",
    "print(files)\n"
   ]
  },
  {
   "cell_type": "code",
   "execution_count": null,
   "id": "64cb97ee",
   "metadata": {
    "papermill": {
     "duration": null,
     "end_time": null,
     "exception": null,
     "start_time": null,
     "status": "pending"
    },
    "tags": []
   },
   "outputs": [],
   "source": []
  }
 ],
 "metadata": {
  "kaggle": {
   "accelerator": "nvidiaTeslaT4",
   "dataSources": [
    {
     "datasetId": 4787594,
     "sourceId": 8105981,
     "sourceType": "datasetVersion"
    }
   ],
   "dockerImageVersionId": 30683,
   "isGpuEnabled": true,
   "isInternetEnabled": true,
   "language": "python",
   "sourceType": "notebook"
  },
  "kernelspec": {
   "display_name": "Python 3",
   "language": "python",
   "name": "python3"
  },
  "language_info": {
   "codemirror_mode": {
    "name": "ipython",
    "version": 3
   },
   "file_extension": ".py",
   "mimetype": "text/x-python",
   "name": "python",
   "nbconvert_exporter": "python",
   "pygments_lexer": "ipython3",
   "version": "3.10.13"
  },
  "papermill": {
   "default_parameters": {},
   "duration": null,
   "end_time": null,
   "environment_variables": {},
   "exception": null,
   "input_path": "__notebook__.ipynb",
   "output_path": "__notebook__.ipynb",
   "parameters": {},
   "start_time": "2024-04-26T09:50:46.129542",
   "version": "2.5.0"
  }
 },
 "nbformat": 4,
 "nbformat_minor": 5
}